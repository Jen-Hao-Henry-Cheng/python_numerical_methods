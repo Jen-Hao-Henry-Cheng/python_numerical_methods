{
 "cells": [
  {
   "cell_type": "code",
   "execution_count": 1,
   "id": "e803b774-2b77-4bba-bf0d-038553d88791",
   "metadata": {
    "tags": []
   },
   "outputs": [],
   "source": [
    "from newton_raphson import *"
   ]
  },
  {
   "cell_type": "code",
   "execution_count": 2,
   "id": "620951af-9200-4811-ae28-53aece1185fa",
   "metadata": {
    "tags": []
   },
   "outputs": [],
   "source": [
    "def f(x): return x**4 - 6.4*x**3 + 6.45*x**2 + 20.538*x - 31.752\n",
    "def df(x): return 4*x**3 - 19.2*x**2 + 12.9*x + 20.538"
   ]
  },
  {
   "cell_type": "code",
   "execution_count": 3,
   "id": "3e372c02-91e9-4369-b98c-3624fbf661df",
   "metadata": {},
   "outputs": [
    {
     "name": "stdout",
     "output_type": "stream",
     "text": [
      "k = 1, xk=2.0494148244473345, error=0.04941482444733447\n",
      "k = 2, xk=2.0745466648340103, error=0.02513184038667582\n",
      "k = 3, xk=2.087231156308758, error=0.012684491474747706\n",
      "k = 4, xk=2.09360477244035, error=0.00637361613159193\n",
      "k = 5, xk=2.0967996512082383, error=0.003194878767888376\n",
      "k = 6, xk=2.0983991375965405, error=0.001599486388302207\n",
      "k = 7, xk=2.0991993962616493, error=0.0008002586651087995\n",
      "k = 8, xk=2.0995996549295097, error=0.0004002586678604203\n",
      "k = 9, xk=2.0997998166574066, error=0.0002001617278968304\n",
      "k = 10, xk=2.0998999056242837, error=0.0001000889668771876\n",
      "k = 11, xk=2.099949952137844, error=5.004651356044221e-05\n",
      "k = 12, xk=2.0999749758949284, error=2.5023757084241538e-05\n",
      "k = 13, xk=2.0999874878778875, error=1.2511982959040324e-05\n",
      "k = 14, xk=2.099993743933325, error=6.256055437692254e-06\n",
      "k = 15, xk=2.0999968719948967, error=3.1280615715445492e-06\n",
      "k = 16, xk=2.099998435869345, error=1.5638744481627498e-06\n",
      "k = 17, xk=2.099999217972918, error=7.82103573016002e-07\n",
      "k = 18, xk=2.0999996085075043, error=3.905345864474441e-07\n",
      "k = 19, xk=2.09999980322977, error=1.9472226586714214e-07\n",
      "k = 20, xk=2.0999999067848725, error=1.035551022710024e-07\n",
      "k = 21, xk=2.0999999530760354, error=4.629116290288948e-08\n",
      "k = 22, xk=2.0999999786199406, error=2.5543905213254448e-08\n",
      "Root = 2.0999999786199406\n",
      "Number of iteration = 22\n"
     ]
    }
   ],
   "source": [
    "root, numIter = newton_raphson(f, df, 2.0)\n",
    "print('Root =', root)\n",
    "print('Number of iteration =', numIter)"
   ]
  }
 ],
 "metadata": {
  "kernelspec": {
   "display_name": "Python 3 (ipykernel)",
   "language": "python",
   "name": "python3"
  },
  "language_info": {
   "codemirror_mode": {
    "name": "ipython",
    "version": 3
   },
   "file_extension": ".py",
   "mimetype": "text/x-python",
   "name": "python",
   "nbconvert_exporter": "python",
   "pygments_lexer": "ipython3",
   "version": "3.11.2"
  }
 },
 "nbformat": 4,
 "nbformat_minor": 5
}
